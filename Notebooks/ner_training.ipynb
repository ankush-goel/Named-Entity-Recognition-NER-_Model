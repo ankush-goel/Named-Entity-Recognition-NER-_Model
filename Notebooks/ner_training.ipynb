{
 "cells": [
  {
   "cell_type": "code",
   "execution_count": null,
   "metadata": {
    "vscode": {
     "languageId": "plaintext"
    }
   },
   "outputs": [],
   "source": [
    "import spacy\n",
    "import pandas as pd\n",
    "import joblib\n",
    "from spacy.training.example import Example\n",
    "from spacy.training import offsets_to_biluo_tags\n",
    "\n",
    "# Load dataset\n",
    "df = pd.read_csv('../data/dataset.csv')\n",
    "\n",
    "# Convert dataset into SpaCy training format\n",
    "TRAIN_DATA = []\n",
    "for _, row in df.iterrows():\n",
    "    text = row['Sentence']\n",
    "    entities = [(text.index(row['Entity']), text.index(row['Entity']) + len(row['Entity']), row['Label'])]\n",
    "    TRAIN_DATA.append((text, {\"entities\": entities}))\n",
    "\n",
    "# Create a blank English model\n",
    "nlp = spacy.blank(\"en\")\n",
    "ner = nlp.add_pipe(\"ner\")\n",
    "\n",
    "# Add labels\n",
    "for _, annotations in TRAIN_DATA:\n",
    "    for ent in annotations[\"entities\"]:\n",
    "        ner.add_label(ent[2])\n",
    "\n",
    "# Train the model\n",
    "nlp.begin_training()\n",
    "for text, annotations in TRAIN_DATA:\n",
    "    example = Example.from_dict(nlp.make_doc(text), annotations)\n",
    "    nlp.update([example])\n",
    "\n",
    "# Save trained model\n",
    "nlp.to_disk(\"../models/ner_model.pkl\")\n",
    "joblib.dump(nlp, \"../models/ner_model.pkl\")\n",
    "\n",
    "print(\"✅ Model training complete! Model saved in /models/ner_model.pkl\")\n"
   ]
  }
 ],
 "metadata": {
  "language_info": {
   "name": "python"
  }
 },
 "nbformat": 4,
 "nbformat_minor": 2
}
